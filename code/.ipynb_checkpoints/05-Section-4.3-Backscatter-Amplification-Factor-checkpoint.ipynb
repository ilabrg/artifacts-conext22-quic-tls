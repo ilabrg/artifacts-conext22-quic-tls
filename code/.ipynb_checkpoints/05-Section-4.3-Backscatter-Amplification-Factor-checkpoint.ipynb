{
 "cells": [
  {
   "cell_type": "markdown",
   "id": "918e8f0c-44ae-4f52-8074-0584b09e14ff",
   "metadata": {},
   "source": [
    "# Libs"
   ]
  },
  {
   "cell_type": "code",
   "execution_count": 3,
   "id": "e95f8157-8c66-4007-a15b-fd043fb5657a",
   "metadata": {},
   "outputs": [],
   "source": [
    "import numpy as np\n",
    "import pandas as pd\n",
    "import matplotlib\n",
    "matplotlib.rcParams['pdf.fonttype'] = 42\n",
    "import matplotlib.pyplot as plt\n",
    "plt.rcParams.update({'font.size': 12})\n",
    "from matplotlib.ticker import MultipleLocator"
   ]
  },
  {
   "cell_type": "markdown",
   "id": "3665bf27-9980-42e7-9e22-f03061082406",
   "metadata": {},
   "source": [
    "# Load Dataframes"
   ]
  },
  {
   "cell_type": "code",
   "execution_count": 4,
   "id": "f0fdebfd-c18a-4dfc-8fe0-14ffd2cad4b2",
   "metadata": {},
   "outputs": [
    {
     "data": {
      "text/html": [
       "<div>\n",
       "<style scoped>\n",
       "    .dataframe tbody tr th:only-of-type {\n",
       "        vertical-align: middle;\n",
       "    }\n",
       "\n",
       "    .dataframe tbody tr th {\n",
       "        vertical-align: top;\n",
       "    }\n",
       "\n",
       "    .dataframe thead th {\n",
       "        text-align: right;\n",
       "    }\n",
       "</style>\n",
       "<table border=\"1\" class=\"dataframe\">\n",
       "  <thead>\n",
       "    <tr style=\"text-align: right;\">\n",
       "      <th></th>\n",
       "      <th>Facebook</th>\n",
       "      <th>Cloudflare</th>\n",
       "      <th>Google</th>\n",
       "    </tr>\n",
       "    <tr>\n",
       "      <th>udp.payloadlength.int.fact</th>\n",
       "      <th></th>\n",
       "      <th></th>\n",
       "      <th></th>\n",
       "    </tr>\n",
       "  </thead>\n",
       "  <tbody>\n",
       "    <tr>\n",
       "      <th>0.028634</th>\n",
       "      <td>0.000031</td>\n",
       "      <td>NaN</td>\n",
       "      <td>NaN</td>\n",
       "    </tr>\n",
       "    <tr>\n",
       "      <th>0.030837</th>\n",
       "      <td>0.000079</td>\n",
       "      <td>NaN</td>\n",
       "      <td>0.00034</td>\n",
       "    </tr>\n",
       "    <tr>\n",
       "      <th>0.031571</th>\n",
       "      <td>0.000110</td>\n",
       "      <td>NaN</td>\n",
       "      <td>NaN</td>\n",
       "    </tr>\n",
       "    <tr>\n",
       "      <th>0.032305</th>\n",
       "      <td>0.000141</td>\n",
       "      <td>NaN</td>\n",
       "      <td>NaN</td>\n",
       "    </tr>\n",
       "    <tr>\n",
       "      <th>0.033040</th>\n",
       "      <td>0.000204</td>\n",
       "      <td>NaN</td>\n",
       "      <td>NaN</td>\n",
       "    </tr>\n",
       "  </tbody>\n",
       "</table>\n",
       "</div>"
      ],
      "text/plain": [
       "                            Facebook  Cloudflare   Google\n",
       "udp.payloadlength.int.fact                               \n",
       "0.028634                    0.000031         NaN      NaN\n",
       "0.030837                    0.000079         NaN  0.00034\n",
       "0.031571                    0.000110         NaN      NaN\n",
       "0.032305                    0.000141         NaN      NaN\n",
       "0.033040                    0.000204         NaN      NaN"
      ]
     },
     "execution_count": 4,
     "metadata": {},
     "output_type": "execute_result"
    }
   ],
   "source": [
    "df_backscatter = pd.read_pickle(f\"../data/pkl/df_backscatter.pkl.zst\")\n",
    "df_backscatter.head()"
   ]
  },
  {
   "cell_type": "markdown",
   "id": "38a2b82d-55a1-4cac-9e03-3092e3fb6efd",
   "metadata": {},
   "source": [
    "# Figure 9: QUIC amplification factor including resends"
   ]
  },
  {
   "cell_type": "code",
   "execution_count": 28,
   "id": "157f8009-5d13-4340-87d8-27010ee95707",
   "metadata": {},
   "outputs": [
    {
     "data": {
      "image/png": "[encoded data removed]",
      "text/plain": [
       "<Figure size 403.2x100.8 with 1 Axes>"
      ]
     },
     "metadata": {
      "needs_background": "light"
     },
     "output_type": "display_data"
    }
   ],
   "source": [
    "ax = df_backscatter.plot(figsize=(8*0.7,2*0.7), marker=\".\", markersize=1)\n",
    "\n",
    "ax.set_ylabel(f\"CDF\")\n",
    "ax.set_xlabel(\"Recv. UDP Payload for complete QUIC Session [Ampl. Factor]\")\n",
    "\n",
    "ax.axvline(3, c=\"black\", linestyle=\"-.\", alpha=0.5, linewidth=1.3)\n",
    "ax.text(-2, 0.65, \"    3x\\nLimit\", c=\"black\", alpha=0.5)\n",
    "\n",
    "ax.yaxis.set_minor_locator(MultipleLocator(0.1))\n",
    "ax.xaxis.set_minor_locator(MultipleLocator(5))\n",
    "\n",
    "handles, labels = ax.get_legend_handles_labels()\n",
    "ax.legend([handles[1],handles[2],handles[0],], \n",
    "          [labels[1],labels[2],labels[0],],\n",
    "          fancybox=False, shadow=False)\n",
    "\n",
    "fig = ax.get_figure()\n",
    "fig.savefig(f\"./plots/cdf_toolarge_ampl_factor_cdns.pdf\", bbox_inches='tight')\n",
    "fig.savefig(f\"./plots/cdf_toolarge_ampl_factor_cdns.png\", bbox_inches='tight', dpi=200)\n",
    "plt.show()\n",
    "plt.close(fig)"
   ]
  },
  {
   "cell_type": "code",
   "execution_count": null,
   "id": "ab934662-0dde-4e8a-a4d3-8f410c4c6e1f",
   "metadata": {},
   "outputs": [],
   "source": []
  },
  {
   "cell_type": "code",
   "execution_count": null,
   "id": "1cf6a8ac-b22f-42a8-b32b-899ded4746fd",
   "metadata": {},
   "outputs": [],
   "source": []
  }
 ],
 "metadata": {
  "kernelspec": {
   "display_name": "Python 3 (ipykernel)",
   "language": "python",
   "name": "python3"
  },
  "language_info": {
   "codemirror_mode": {
    "name": "ipython",
    "version": 3
   },
   "file_extension": ".py",
   "mimetype": "text/x-python",
   "name": "python",
   "nbconvert_exporter": "python",
   "pygments_lexer": "ipython3",
   "version": "3.10.2"
  }
 },
 "nbformat": 4,
 "nbformat_minor": 5
}
