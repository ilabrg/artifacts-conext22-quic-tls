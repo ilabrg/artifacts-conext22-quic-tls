{
 "cells": [
  {
   "cell_type": "markdown",
   "id": "90a278db-8485-432d-be11-421f7ea73f74",
   "metadata": {},
   "source": [
    "# Libs"
   ]
  },
  {
   "cell_type": "code",
   "execution_count": 1,
   "id": "10c8b393-341d-40b4-8543-b4581612d7ec",
   "metadata": {},
   "outputs": [],
   "source": [
    "import numpy as np\n",
    "import pandas as pd\n",
    "import matplotlib\n",
    "matplotlib.rcParams['pdf.fonttype'] = 42\n",
    "import matplotlib.pyplot as plt\n",
    "from matplotlib.ticker import MultipleLocator\n",
    "from matplotlib.colors import LogNorm\n",
    "plt.rcParams.update({'font.size': 12})\n",
    "import matplotlib.colors as mpc\n",
    "import seaborn as sns"
   ]
  },
  {
   "cell_type": "markdown",
   "id": "fd250c42-943b-4717-a761-245cfeb2ea5f",
   "metadata": {},
   "source": [
    "# Load Data"
   ]
  },
  {
   "cell_type": "markdown",
   "id": "c7e87d7a-564a-479f-a689-44c610ddb780",
   "metadata": {},
   "source": [
    "### QUIC"
   ]
  },
  {
   "cell_type": "code",
   "execution_count": 2,
   "id": "3c3a2ade-213f-4a4d-b1d3-c1f60d8505cd",
   "metadata": {
    "tags": []
   },
   "outputs": [
    {
     "data": {
      "text/html": [
       "<div>\n",
       "<style scoped>\n",
       "    .dataframe tbody tr th:only-of-type {\n",
       "        vertical-align: middle;\n",
       "    }\n",
       "\n",
       "    .dataframe tbody tr th {\n",
       "        vertical-align: top;\n",
       "    }\n",
       "\n",
       "    .dataframe thead th {\n",
       "        text-align: right;\n",
       "    }\n",
       "</style>\n",
       "<table border=\"1\" class=\"dataframe\">\n",
       "  <thead>\n",
       "    <tr style=\"text-align: right;\">\n",
       "      <th></th>\n",
       "      <th>domain</th>\n",
       "      <th>rtt</th>\n",
       "      <th>sent_tls_payload</th>\n",
       "      <th>recv_tls_payload</th>\n",
       "      <th>handshake_tag</th>\n",
       "      <th>sent_udp_payload</th>\n",
       "      <th>recv_udp_payload</th>\n",
       "      <th>ampl_factor</th>\n",
       "      <th>initial_size</th>\n",
       "    </tr>\n",
       "  </thead>\n",
       "  <tbody>\n",
       "    <tr>\n",
       "      <th>0</th>\n",
       "      <td>0-1xbet.best</td>\n",
       "      <td>8.486000</td>\n",
       "      <td>288</td>\n",
       "      <td>2656</td>\n",
       "      <td>Amplification</td>\n",
       "      <td>1220</td>\n",
       "      <td>5118</td>\n",
       "      <td>4.2</td>\n",
       "      <td>1200</td>\n",
       "    </tr>\n",
       "    <tr>\n",
       "      <th>1</th>\n",
       "      <td>0-1xbet.best</td>\n",
       "      <td>16.799999</td>\n",
       "      <td>288</td>\n",
       "      <td>2654</td>\n",
       "      <td>Amplification</td>\n",
       "      <td>1220</td>\n",
       "      <td>5116</td>\n",
       "      <td>4.2</td>\n",
       "      <td>1212</td>\n",
       "    </tr>\n",
       "    <tr>\n",
       "      <th>2</th>\n",
       "      <td>0-1xbet.best</td>\n",
       "      <td>23.701000</td>\n",
       "      <td>288</td>\n",
       "      <td>2656</td>\n",
       "      <td>Amplification</td>\n",
       "      <td>1222</td>\n",
       "      <td>5118</td>\n",
       "      <td>4.2</td>\n",
       "      <td>1222</td>\n",
       "    </tr>\n",
       "    <tr>\n",
       "      <th>3</th>\n",
       "      <td>0-1xbet.best</td>\n",
       "      <td>8.466000</td>\n",
       "      <td>288</td>\n",
       "      <td>2655</td>\n",
       "      <td>Amplification</td>\n",
       "      <td>1232</td>\n",
       "      <td>5117</td>\n",
       "      <td>4.2</td>\n",
       "      <td>1232</td>\n",
       "    </tr>\n",
       "    <tr>\n",
       "      <th>4</th>\n",
       "      <td>0-1xbet.best</td>\n",
       "      <td>10.727000</td>\n",
       "      <td>288</td>\n",
       "      <td>2656</td>\n",
       "      <td>Amplification</td>\n",
       "      <td>1242</td>\n",
       "      <td>5118</td>\n",
       "      <td>4.1</td>\n",
       "      <td>1242</td>\n",
       "    </tr>\n",
       "  </tbody>\n",
       "</table>\n",
       "</div>"
      ],
      "text/plain": [
       "         domain        rtt  sent_tls_payload  recv_tls_payload  handshake_tag  \\\n",
       "0  0-1xbet.best   8.486000               288              2656  Amplification   \n",
       "1  0-1xbet.best  16.799999               288              2654  Amplification   \n",
       "2  0-1xbet.best  23.701000               288              2656  Amplification   \n",
       "3  0-1xbet.best   8.466000               288              2655  Amplification   \n",
       "4  0-1xbet.best  10.727000               288              2656  Amplification   \n",
       "\n",
       "   sent_udp_payload  recv_udp_payload  ampl_factor  initial_size  \n",
       "0              1220              5118          4.2          1200  \n",
       "1              1220              5116          4.2          1212  \n",
       "2              1222              5118          4.2          1222  \n",
       "3              1232              5117          4.2          1232  \n",
       "4              1242              5118          4.1          1242  "
      ]
     },
     "execution_count": 2,
     "metadata": {},
     "output_type": "execute_result"
    }
   ],
   "source": [
    "df_quic = pd.read_pickle(f\"../data/pkl/df_quicreach_handshakes.pkl.zst\")\n",
    "df_quic.head()"
   ]
  },
  {
   "cell_type": "markdown",
   "id": "e74c3af1-77f0-46fc-91f9-9f29800fdd0b",
   "metadata": {},
   "source": [
    "### TLS"
   ]
  },
  {
   "cell_type": "code",
   "execution_count": null,
   "id": "3ce78511-cc7e-4ad3-a696-64fd822ef373",
   "metadata": {},
   "outputs": [],
   "source": [
    "df_tls = pd.read_pickle(f\"../data/pkl/df_tls_certs.pkl.zst\")\n",
    "df_tls[\"certsize_total\"] = df_tls.groupby([\"domain\"])[\"certsize\"].transform(\"sum\")\n",
    "df_tls.head()"
   ]
  },
  {
   "cell_type": "markdown",
   "id": "e735109e-47c2-4614-83a6-d70c68c12c77",
   "metadata": {},
   "source": [
    "# Show Number of Services with same Cert"
   ]
  },
  {
   "cell_type": "code",
   "execution_count": null,
   "id": "6e48029b-05ef-4ca0-9dd6-8f11c05b219e",
   "metadata": {},
   "outputs": [],
   "source": [
    "ax = df_tls[df_tls[\"type\"]==\"LEAF\"][\n",
    "        \"sancount\"].value_counts().sort_index().plot(\n",
    "            logy=True, marker=\".\", figsize=(8*0.7,3*0.7))\n",
    "\n",
    "ax.set_xlabel(\"Number of Services [#]\")\n",
    "ax.set_ylabel(\"QUIC Services [#]\")\n",
    "ax.set_xlim((-30,1030))\n",
    "ax.set_ylim((10**-0.5,10**6))\n",
    "ax.xaxis.set_minor_locator(MultipleLocator(100))\n",
    "\n",
    "fig = ax.get_figure()\n",
    "plt.show()\n",
    "plt.close(fig)"
   ]
  },
  {
   "cell_type": "code",
   "execution_count": null,
   "id": "bf1c7f76-a664-4928-a5cf-540dd3185b39",
   "metadata": {},
   "outputs": [],
   "source": [
    "df_tls_quicservices = df_tls[ (df_tls[\"domain\"].isin(set(df_quic[\"domain\"]))) ]\n",
    "\n",
    "ax = df_tls_quicservices[df_tls_quicservices[\"type\"]==\"LEAF\"][#.drop_duplicates(subset=\"hash\")[\n",
    "        \"sancount\"].value_counts().sort_index().plot(\n",
    "            logy=True, marker=\".\", figsize=(8*0.7,3*0.7))\n",
    "\n",
    "ax.set_xlabel(\"Number of QUIC Services [#]\")\n",
    "ax.set_ylabel(\"QUIC Services [#]\")\n",
    "ax.set_xlim((-30,1030))\n",
    "ax.set_ylim((10**-0.5,10**6))\n",
    "ax.xaxis.set_minor_locator(MultipleLocator(100))\n",
    "\n",
    "fig = ax.get_figure()\n",
    "plt.show()\n",
    "plt.close(fig)"
   ]
  },
  {
   "cell_type": "markdown",
   "id": "e95e494e-da3e-4e9a-a8cf-de05d1f1c007",
   "metadata": {},
   "source": [
    "# Detect Cruise-Liner Certs"
   ]
  },
  {
   "cell_type": "code",
   "execution_count": null,
   "id": "077b36ef-3439-4e67-a6f4-4643e0ed35a4",
   "metadata": {},
   "outputs": [],
   "source": [
    "# todo discuss if we should drop duplicates here!\n",
    "df_cruisers = df_tls_quicservices[df_tls_quicservices[\"type\"]==\"LEAF\"].drop_duplicates(\n",
    "                subset=[\"hash\"])[[\"hash\",\"isscn\",\"sansize\",\"sancount\",\"certsize_total\",\"certsize\"]].copy()\n",
    "\n",
    "df_cruisers = df_tls_quicservices[df_tls_quicservices[\"type\"]==\"LEAF\"][\n",
    "    [\"hash\",\"isscn\",\"sansize\",\"sancount\",\"certsize_total\",\"certsize\"]].copy()\n",
    "\n",
    "df_cruisers[\"sansize_share\"] = df_cruisers[\"sansize\"]/df_cruisers[\"certsize\"]*100"
   ]
  },
  {
   "cell_type": "code",
   "execution_count": null,
   "id": "65015fed-8bdc-4f52-a92e-f5c1a73398b2",
   "metadata": {},
   "outputs": [],
   "source": [
    "ax = df_cruisers.plot.hexbin(x=\"certsize\", y=\"sansize_share\",\n",
    "                        sharex=False, norm=mpc.LogNorm(vmin=10**0, vmax=10**5,), \n",
    "                        cmap=[\"Spectral_r\",\"viridis\",\"icefire\",\"coolwarm\",\"crest\",\"flare\", \"cividis\"][1],\n",
    "                        reduce_C_function=np.size, alpha=1,\n",
    "                        linewidths=0.2,\n",
    "                        extent=(0,16000,0,100))\n",
    "\n",
    "cruiser_threshold =  28.9 # 16.2 ||| ### 6.5 for 1%  ### 32.98 for 0.1%\n",
    "ampl_threshold = 3*1357\n",
    "ax.axhline(cruiser_threshold, linestyle=\"-.\", linewidth=1., color=\"grey\", alpha=0.6)\n",
    "ax.axvline(ampl_threshold, linestyle=\"-.\", linewidth=1., color=\"grey\", alpha=0.6)\n",
    "\n",
    "df_cruiser_found = df_cruisers[df_cruisers[\"sansize_share\"]>cruiser_threshold]\n",
    "\n",
    "print(\"Total Leaf Certs:\", len(df_cruisers),)\n",
    "print(\"Max:\", df_cruisers[[\"certsize\",\"sansize_share\"]].max().to_dict())\n",
    "\n",
    "print(f\"Cruiser Certs ({cruiser_threshold} % SANs):\", len(df_cruiser_found))\n",
    "print(\"Percentile:\", len(df_cruiser_found)/len(df_cruisers)*100)\n",
    "print(\"Affected QUIC Domains from our list: \", df_tls_quicservices[df_tls_quicservices[\"hash\"].isin(\n",
    "    df_cruiser_found[\"hash\"])][\"domain\"].nunique(), \"/\", df_quic[\"domain\"].nunique())\n",
    "\n",
    "# labels\n",
    "ax.set_xlabel(\"Leaf Certificate Size [B]\")\n",
    "ax.set_ylabel(f\"Byte Share of Subj. Alt Names [%]\")\n",
    "plt.gcf().get_axes()[1].set_ylabel(\"QUIC Services [#] \")\n",
    "ax.xaxis.set_minor_locator(MultipleLocator(1000))\n",
    "ax.yaxis.set_minor_locator(MultipleLocator(10))\n",
    "ax.text(-600, 21, \"99%\", color=\"grey\", alpha=0.8)\n",
    "ax.text(-600, 32, \"0.9%\", color=\"grey\", alpha=0.8)\n",
    "ax.text(14500, 32, \"0.1%\", color=\"grey\", alpha=0.8)\n",
    "ax.text(15200, 21, \"0%\", color=\"grey\", alpha=0.8)\n",
    "\n",
    "fig = ax.get_figure()\n",
    "fig.savefig(f\"./plots/hexbin_quic_certs_cruiser.pdf\", bbox_inches='tight')\n",
    "fig.savefig(f\"./plots/hexbin_quic_certs_cruiser.png\", bbox_inches='tight', dpi=200)\n",
    "plt.show()\n",
    "plt.close(fig)"
   ]
  },
  {
   "cell_type": "code",
   "execution_count": null,
   "id": "108e90dd-f166-4805-ae8f-fba66226dd21",
   "metadata": {},
   "outputs": [],
   "source": [
    "# lets find out how many services in each area of the hexbin\n",
    "(df_cruisers.groupby([ list( zip( \n",
    "                        (df_cruisers[\"sansize_share\"]>cruiser_threshold), \n",
    "                        (df_cruisers[\"certsize\"]>ampl_threshold))) ]).size() / \\\n",
    "                            len(df_cruisers) * 100).round(1)"
   ]
  },
  {
   "cell_type": "markdown",
   "id": "e2261ea7-6a88-475a-9f22-d5fe73f29959",
   "metadata": {},
   "source": [
    "### Who is issuing cruise-liner certs?"
   ]
  },
  {
   "cell_type": "code",
   "execution_count": null,
   "id": "fcc9af30-6648-4b90-8503-3b439a5b9404",
   "metadata": {},
   "outputs": [],
   "source": [
    "df_cruisers[ (df_cruisers[\"sansize_share\"]>cruiser_threshold) ][\"isscn\"].value_counts(\n",
    "    normalize=True).to_frame()*100"
   ]
  },
  {
   "cell_type": "code",
   "execution_count": null,
   "id": "d91e3e22-611a-4fc7-945c-f39358c2911d",
   "metadata": {},
   "outputs": [],
   "source": []
  },
  {
   "cell_type": "code",
   "execution_count": null,
   "id": "d24eb756-1cc3-4ec3-9a61-8304578cfdaf",
   "metadata": {},
   "outputs": [],
   "source": []
  },
  {
   "cell_type": "code",
   "execution_count": null,
   "id": "0db0db0e-f8a7-40c7-b212-3ac949c47df1",
   "metadata": {},
   "outputs": [],
   "source": []
  },
  {
   "cell_type": "code",
   "execution_count": null,
   "id": "f9bd56f6-ca32-4b7e-af1d-d3349abbddff",
   "metadata": {},
   "outputs": [],
   "source": []
  }
 ],
 "metadata": {
  "kernelspec": {
   "display_name": "Python 3 (ipykernel)",
   "language": "python",
   "name": "python3"
  },
  "language_info": {
   "codemirror_mode": {
    "name": "ipython",
    "version": 3
   },
   "file_extension": ".py",
   "mimetype": "text/x-python",
   "name": "python",
   "nbconvert_exporter": "python",
   "pygments_lexer": "ipython3",
   "version": "3.10.7"
  }
 },
 "nbformat": 4,
 "nbformat_minor": 5
}
